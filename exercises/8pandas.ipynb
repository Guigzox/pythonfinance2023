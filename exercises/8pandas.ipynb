{
  "nbformat": 4,
  "nbformat_minor": 0,
  "metadata": {
    "colab": {
      "provenance": []
    },
    "kernelspec": {
      "name": "python3",
      "display_name": "Python 3"
    },
    "language_info": {
      "name": "python"
    }
  },
  "cells": [
    {
      "cell_type": "markdown",
      "source": [
        "# 13 Pandas\n",
        "# reference: https://www.w3schools.com/python/pandas/default.asp\n",
        "# reference: https://pandas.pydata.org/Pandas_Cheat_Sheet.pdf"
      ],
      "metadata": {
        "id": "cxwRSG09U5Cn"
      }
    },
    {
      "cell_type": "code",
      "execution_count": null,
      "metadata": {
        "id": "3bA9p0e8UaI7"
      },
      "outputs": [],
      "source": [
        "#import packages\n",
        "import pandas as pd\n",
        "import matplotlib.pyplot as plt"
      ]
    },
    {
      "cell_type": "code",
      "source": [
        "# 8.1 import the csv file Credit.csv into a pandas dataframe Credit using the read_csv() function in the pandas package\n",
        "# TODO: Write your code below"
      ],
      "metadata": {
        "id": "uAZAbixKU-V5"
      },
      "execution_count": null,
      "outputs": []
    },
    {
      "cell_type": "code",
      "source": [
        "# 8.2 print the top 10 rows in Credit using the head() function of pandas\n",
        "# TODO: Write your code below"
      ],
      "metadata": {
        "id": "hjZlPWi_VCMx"
      },
      "execution_count": null,
      "outputs": []
    },
    {
      "cell_type": "code",
      "source": [
        "# 8.3 print information about Credit using the info() function of pandas.\n",
        "# TODO: Write your code below"
      ],
      "metadata": {
        "id": "YeoSW06bVGU4"
      },
      "execution_count": null,
      "outputs": []
    },
    {
      "cell_type": "code",
      "source": [
        "# 8.4 using the shape attribute of pandas, print the number of rows and columns in Credit\n",
        "# HINT: https://pandas.pydata.org/Pandas_Cheat_Sheet.pdf\n",
        "# TODO: Write your code below"
      ],
      "metadata": {
        "id": "_NS8-HfjVIhc"
      },
      "execution_count": null,
      "outputs": []
    },
    {
      "cell_type": "code",
      "source": [
        "# 8.5 if any, drop rows with missing values from the Credit dataframe\n",
        "# TODO: Write your code below"
      ],
      "metadata": {
        "id": "NK14JWUeVJZK"
      },
      "execution_count": null,
      "outputs": []
    },
    {
      "cell_type": "code",
      "source": [
        "# 8.6 Calculate correlation coefficients between the numeric columns in Credit using the corr() function in pandas\n",
        "# TODO: Write your code below"
      ],
      "metadata": {
        "id": "AMbb_iXoVLs1"
      },
      "execution_count": null,
      "outputs": []
    },
    {
      "cell_type": "code",
      "source": [
        "# 8.7 Grouped by student, calculate the sum of Balance and average of Balance\n",
        "# HINT: https://pandas.pydata.org/Pandas_Cheat_Sheet.pdf\n",
        "# TODO: Write your code below"
      ],
      "metadata": {
        "id": "mkzpFHa5VPHU"
      },
      "execution_count": null,
      "outputs": []
    },
    {
      "cell_type": "code",
      "source": [
        "# 8.8 Using the plot() function in pandas, plot a histogram of Balance\n",
        "# HINT: https://www.w3schools.com/python/pandas/pandas_plotting.asp\n",
        "# TODO: Write your code below"
      ],
      "metadata": {
        "id": "Pz-G6b02VPwM"
      },
      "execution_count": null,
      "outputs": []
    },
    {
      "cell_type": "code",
      "source": [
        "# 8.9 Using the plot() function in pandas, draw a scatterplot of Income vs. Balance\n",
        "# HINT: https://www.w3schools.com/python/pandas/pandas_plotting.asp\n",
        "# TODO: Write your code below"
      ],
      "metadata": {
        "id": "o0L4qvJ1VTTi"
      },
      "execution_count": null,
      "outputs": []
    },
    {
      "cell_type": "markdown",
      "source": [],
      "metadata": {
        "id": "NgS90U1fU37z"
      }
    }
  ]
}